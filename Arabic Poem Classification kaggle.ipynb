{
 "cells": [
  {
   "cell_type": "markdown",
   "id": "82b2f1f3",
   "metadata": {},
   "source": [
    "# Arabic poems classification"
   ]
  },
  {
   "cell_type": "code",
   "execution_count": 461,
   "id": "65391322",
   "metadata": {},
   "outputs": [],
   "source": [
    "import pandas as pd\n",
    "import numpy as np \n",
    "import matplotlib.pyplot as plt\n",
    "import seaborn as sns"
   ]
  },
  {
   "cell_type": "markdown",
   "id": "36362275",
   "metadata": {},
   "source": [
    "## Data reading"
   ]
  },
  {
   "cell_type": "code",
   "execution_count": 391,
   "id": "ae9f3cb5",
   "metadata": {},
   "outputs": [],
   "source": [
    "df_train = pd.read_csv(\"arabic poems\\poems.csv\")\n",
    "df_test = pd.read_csv(\"arabic poems\\\\test.csv\")"
   ]
  },
  {
   "cell_type": "markdown",
   "id": "5d07f048",
   "metadata": {},
   "source": [
    "## general check"
   ]
  },
  {
   "cell_type": "code",
   "execution_count": 392,
   "id": "2795e559",
   "metadata": {},
   "outputs": [
    {
     "data": {
      "text/html": [
       "<div>\n",
       "<style scoped>\n",
       "    .dataframe tbody tr th:only-of-type {\n",
       "        vertical-align: middle;\n",
       "    }\n",
       "\n",
       "    .dataframe tbody tr th {\n",
       "        vertical-align: top;\n",
       "    }\n",
       "\n",
       "    .dataframe thead th {\n",
       "        text-align: right;\n",
       "    }\n",
       "</style>\n",
       "<table border=\"1\" class=\"dataframe\">\n",
       "  <thead>\n",
       "    <tr style=\"text-align: right;\">\n",
       "      <th></th>\n",
       "      <th>Title</th>\n",
       "      <th>Author</th>\n",
       "      <th>Category</th>\n",
       "      <th>Poem</th>\n",
       "    </tr>\n",
       "  </thead>\n",
       "  <tbody>\n",
       "    <tr>\n",
       "      <th>0</th>\n",
       "      <td>هُنّئتَ بالعيدِ بل هُنّي بكَ العيدُ،</td>\n",
       "      <td>صفي الدين الحلي</td>\n",
       "      <td>العصر الأندلسي</td>\n",
       "      <td>هنءت بالعيد بل هني بك العيد فانت لجود بل ارث ...</td>\n",
       "    </tr>\n",
       "    <tr>\n",
       "      <th>1</th>\n",
       "      <td>يا بَديعَ الحُسنِ</td>\n",
       "      <td>المعتمد بن عباد</td>\n",
       "      <td>العصر الأندلسي</td>\n",
       "      <td>يا بديع الحسن والاح سان يا بدر الدياجي يا غزا...</td>\n",
       "    </tr>\n",
       "    <tr>\n",
       "      <th>2</th>\n",
       "      <td>وأوانس تدنو إذا اجتديت</td>\n",
       "      <td>الأبيوردي</td>\n",
       "      <td>العصر الأندلسي</td>\n",
       "      <td>وَأَوانِسٍ تَدنو إِذا اِجتَدِيَتْ بِحَديثها وَ...</td>\n",
       "    </tr>\n",
       "    <tr>\n",
       "      <th>3</th>\n",
       "      <td>حسبي رضاك من الدهر الذي عتبا</td>\n",
       "      <td>ابن دارج القسطلي</td>\n",
       "      <td>العصر الأندلسي</td>\n",
       "      <td>حسبي رضاك من الدهر الذي عتبا وجود كفيك لحظ ال...</td>\n",
       "    </tr>\n",
       "    <tr>\n",
       "      <th>4</th>\n",
       "      <td>ماذا يقول المادحو</td>\n",
       "      <td>ظافر الحداد</td>\n",
       "      <td>العصر الأندلسي</td>\n",
       "      <td>ماذا يقول المادحو  نَ وأنت مُخترع الغَرائبْ أع...</td>\n",
       "    </tr>\n",
       "  </tbody>\n",
       "</table>\n",
       "</div>"
      ],
      "text/plain": [
       "                                   Title            Author        Category  \\\n",
       "0  هُنّئتَ بالعيدِ بل هُنّي بكَ العيدُ،    صفي الدين الحلي  العصر الأندلسي   \n",
       "1                     يا بَديعَ الحُسنِ    المعتمد بن عباد  العصر الأندلسي   \n",
       "2                 وأوانس تدنو إذا اجتديت         الأبيوردي  العصر الأندلسي   \n",
       "3          حسبي رضاك من الدهر الذي عتبا   ابن دارج القسطلي  العصر الأندلسي   \n",
       "4                      ماذا يقول المادحو       ظافر الحداد  العصر الأندلسي   \n",
       "\n",
       "                                                Poem  \n",
       "0   هنءت بالعيد بل هني بك العيد فانت لجود بل ارث ...  \n",
       "1   يا بديع الحسن والاح سان يا بدر الدياجي يا غزا...  \n",
       "2  وَأَوانِسٍ تَدنو إِذا اِجتَدِيَتْ بِحَديثها وَ...  \n",
       "3   حسبي رضاك من الدهر الذي عتبا وجود كفيك لحظ ال...  \n",
       "4  ماذا يقول المادحو  نَ وأنت مُخترع الغَرائبْ أع...  "
      ]
     },
     "execution_count": 392,
     "metadata": {},
     "output_type": "execute_result"
    }
   ],
   "source": [
    "df_train.head()"
   ]
  },
  {
   "cell_type": "code",
   "execution_count": 393,
   "id": "64d1720c",
   "metadata": {},
   "outputs": [
    {
     "data": {
      "text/plain": [
       "(25000, 4)"
      ]
     },
     "execution_count": 393,
     "metadata": {},
     "output_type": "execute_result"
    }
   ],
   "source": [
    "df_train.shape"
   ]
  },
  {
   "cell_type": "code",
   "execution_count": 394,
   "id": "3e37625a",
   "metadata": {},
   "outputs": [
    {
     "data": {
      "text/plain": [
       "(4887, 4)"
      ]
     },
     "execution_count": 394,
     "metadata": {},
     "output_type": "execute_result"
    }
   ],
   "source": [
    "df_test.shape"
   ]
  },
  {
   "cell_type": "code",
   "execution_count": 395,
   "id": "e68b78a1",
   "metadata": {},
   "outputs": [
    {
     "data": {
      "text/plain": [
       "633"
      ]
     },
     "execution_count": 395,
     "metadata": {},
     "output_type": "execute_result"
    }
   ],
   "source": [
    "df_train[\"Author\"].nunique()"
   ]
  },
  {
   "cell_type": "code",
   "execution_count": 396,
   "id": "0f85dda0",
   "metadata": {},
   "outputs": [
    {
     "data": {
      "text/plain": [
       "626"
      ]
     },
     "execution_count": 396,
     "metadata": {},
     "output_type": "execute_result"
    }
   ],
   "source": [
    "df_test[\"Author\"].nunique()"
   ]
  },
  {
   "cell_type": "code",
   "execution_count": 397,
   "id": "1385e0cc",
   "metadata": {},
   "outputs": [
    {
     "name": "stdout",
     "output_type": "stream",
     "text": [
      "3355941\n"
     ]
    }
   ],
   "source": [
    "print(df_train['Poem'].apply(lambda x: len(x.split(' '))).sum())"
   ]
  },
  {
   "cell_type": "code",
   "execution_count": 398,
   "id": "38015fd5",
   "metadata": {},
   "outputs": [
    {
     "name": "stdout",
     "output_type": "stream",
     "text": [
      "660678\n"
     ]
    }
   ],
   "source": [
    "print(df_test['Poem'].apply(lambda x: len(x.split(' '))).sum())"
   ]
  },
  {
   "cell_type": "code",
   "execution_count": 399,
   "id": "ccbc4b9a",
   "metadata": {},
   "outputs": [
    {
     "data": {
      "image/png": "[encoded data removed]",
      "text/plain": [
       "<Figure size 1000x400 with 1 Axes>"
      ]
     },
     "metadata": {},
     "output_type": "display_data"
    }
   ],
   "source": [
    "# my_tags = df[\"Category\"].unique()\n",
    "plt.figure(figsize=(10 ,4)) \n",
    "df_train.Category.value_counts().plot(kind='bar');"
   ]
  },
  {
   "cell_type": "code",
   "execution_count": 400,
   "id": "36700f9f",
   "metadata": {},
   "outputs": [
    {
     "name": "stdout",
     "output_type": "stream",
     "text": [
      "يُنادونَ قَلبي وَالغَرامُ يُجيبُ وَلِلقَلبِ في حين النِداءِ وَجيبُ مَشوقٌ دَعاهُ الشَوقُ وَالوَجدُ وَالهَوى يُجيبُ نِداءَ الحُبِّ وَهوَ نَجيبُ يُقاسي فُؤادي الوَجدَ وَالحُبَّ واصِلٌ فَكَيفَ تَراهُ إِن جَفاهُ حَبيبُ إِذا أخَطأَ الأَحبابُ تَرتيبَ حالِهِم فَإِنَّ فُؤادي دائما لَيُصيبُ عَليمٌ بِأَسرار الغَرامِ لأَنَّهُ بَصيرٌ بِأدواء الحِسانِ طَبيبُ يُواصِلُني سِرّا وَيُصرِمُ ظاهِراً وَذَلِكَ مِن أَفعالِهِنَّ عَجيبُ\n"
     ]
    }
   ],
   "source": [
    "print(df_train[\"Poem\"][100])"
   ]
  },
  {
   "cell_type": "markdown",
   "id": "173a0a5d",
   "metadata": {},
   "source": [
    "## remove stop words from train and test data"
   ]
  },
  {
   "cell_type": "code",
   "execution_count": 401,
   "id": "db445706",
   "metadata": {},
   "outputs": [],
   "source": [
    "import arabicstopwords.arabicstopwords as ast"
   ]
  },
  {
   "cell_type": "code",
   "execution_count": 402,
   "id": "14abd710",
   "metadata": {},
   "outputs": [],
   "source": [
    "stop_words = ast.stopwords_list()"
   ]
  },
  {
   "cell_type": "code",
   "execution_count": 403,
   "id": "13dc3849",
   "metadata": {},
   "outputs": [],
   "source": [
    "def remove_stop_words(text):\n",
    "    return ' '.join(word for word in text.split() if word not in stop_words)"
   ]
  },
  {
   "cell_type": "code",
   "execution_count": 404,
   "id": "e11715fe",
   "metadata": {
    "scrolled": true
   },
   "outputs": [],
   "source": [
    "df_train['Poem'] =df_train['Poem'].apply(remove_stop_words)"
   ]
  },
  {
   "cell_type": "code",
   "execution_count": 405,
   "id": "5c9fed88",
   "metadata": {},
   "outputs": [],
   "source": [
    "df_test['Poem'] = df_test['Poem'].apply(remove_stop_words)"
   ]
  },
  {
   "cell_type": "markdown",
   "id": "8f5864a0",
   "metadata": {},
   "source": [
    "## label encoding for target"
   ]
  },
  {
   "cell_type": "code",
   "execution_count": 406,
   "id": "ba8dbb1d",
   "metadata": {},
   "outputs": [],
   "source": [
    "df_train['Category_labels'] = df_train['Category'].astype('category').cat.codes"
   ]
  },
  {
   "cell_type": "code",
   "execution_count": 407,
   "id": "09b18ff4",
   "metadata": {},
   "outputs": [
    {
     "data": {
      "text/html": [
       "<div>\n",
       "<style scoped>\n",
       "    .dataframe tbody tr th:only-of-type {\n",
       "        vertical-align: middle;\n",
       "    }\n",
       "\n",
       "    .dataframe tbody tr th {\n",
       "        vertical-align: top;\n",
       "    }\n",
       "\n",
       "    .dataframe thead th {\n",
       "        text-align: right;\n",
       "    }\n",
       "</style>\n",
       "<table border=\"1\" class=\"dataframe\">\n",
       "  <thead>\n",
       "    <tr style=\"text-align: right;\">\n",
       "      <th></th>\n",
       "      <th>Title</th>\n",
       "      <th>Author</th>\n",
       "      <th>Category</th>\n",
       "      <th>Poem</th>\n",
       "      <th>Category_labels</th>\n",
       "    </tr>\n",
       "  </thead>\n",
       "  <tbody>\n",
       "    <tr>\n",
       "      <th>0</th>\n",
       "      <td>هُنّئتَ بالعيدِ بل هُنّي بكَ العيدُ،</td>\n",
       "      <td>صفي الدين الحلي</td>\n",
       "      <td>العصر الأندلسي</td>\n",
       "      <td>هنءت بالعيد هني العيد فانت لجود ارث الجود يا ا...</td>\n",
       "      <td>0</td>\n",
       "    </tr>\n",
       "    <tr>\n",
       "      <th>1</th>\n",
       "      <td>يا بَديعَ الحُسنِ</td>\n",
       "      <td>المعتمد بن عباد</td>\n",
       "      <td>العصر الأندلسي</td>\n",
       "      <td>يا بديع الحسن والاح سان يا بدر الدياجي يا غزال...</td>\n",
       "      <td>0</td>\n",
       "    </tr>\n",
       "    <tr>\n",
       "      <th>2</th>\n",
       "      <td>وأوانس تدنو إذا اجتديت</td>\n",
       "      <td>الأبيوردي</td>\n",
       "      <td>العصر الأندلسي</td>\n",
       "      <td>وَأَوانِسٍ تَدنو إِذا اِجتَدِيَتْ بِحَديثها وَ...</td>\n",
       "      <td>0</td>\n",
       "    </tr>\n",
       "    <tr>\n",
       "      <th>3</th>\n",
       "      <td>حسبي رضاك من الدهر الذي عتبا</td>\n",
       "      <td>ابن دارج القسطلي</td>\n",
       "      <td>العصر الأندلسي</td>\n",
       "      <td>رضاك الدهر عتبا وجود لحظ انقلبا يا مالكا اصبحت...</td>\n",
       "      <td>0</td>\n",
       "    </tr>\n",
       "    <tr>\n",
       "      <th>4</th>\n",
       "      <td>ماذا يقول المادحو</td>\n",
       "      <td>ظافر الحداد</td>\n",
       "      <td>العصر الأندلسي</td>\n",
       "      <td>يقول المادحو نَ مُخترع الغَرائبْ أعْجزتَ كلَّ ...</td>\n",
       "      <td>0</td>\n",
       "    </tr>\n",
       "  </tbody>\n",
       "</table>\n",
       "</div>"
      ],
      "text/plain": [
       "                                   Title            Author        Category  \\\n",
       "0  هُنّئتَ بالعيدِ بل هُنّي بكَ العيدُ،    صفي الدين الحلي  العصر الأندلسي   \n",
       "1                     يا بَديعَ الحُسنِ    المعتمد بن عباد  العصر الأندلسي   \n",
       "2                 وأوانس تدنو إذا اجتديت         الأبيوردي  العصر الأندلسي   \n",
       "3          حسبي رضاك من الدهر الذي عتبا   ابن دارج القسطلي  العصر الأندلسي   \n",
       "4                      ماذا يقول المادحو       ظافر الحداد  العصر الأندلسي   \n",
       "\n",
       "                                                Poem  Category_labels  \n",
       "0  هنءت بالعيد هني العيد فانت لجود ارث الجود يا ا...                0  \n",
       "1  يا بديع الحسن والاح سان يا بدر الدياجي يا غزال...                0  \n",
       "2  وَأَوانِسٍ تَدنو إِذا اِجتَدِيَتْ بِحَديثها وَ...                0  \n",
       "3  رضاك الدهر عتبا وجود لحظ انقلبا يا مالكا اصبحت...                0  \n",
       "4  يقول المادحو نَ مُخترع الغَرائبْ أعْجزتَ كلَّ ...                0  "
      ]
     },
     "execution_count": 407,
     "metadata": {},
     "output_type": "execute_result"
    }
   ],
   "source": [
    "df_train.head()"
   ]
  },
  {
   "cell_type": "code",
   "execution_count": 408,
   "id": "19e33482",
   "metadata": {},
   "outputs": [],
   "source": [
    "df = pd.concat([df_train,df_test])"
   ]
  },
  {
   "cell_type": "code",
   "execution_count": 409,
   "id": "168d5ed2",
   "metadata": {},
   "outputs": [],
   "source": [
    "# df['poem_len'] = df['Poem'].apply(lambda x: len(x.split(' '))).mean()"
   ]
  },
  {
   "cell_type": "code",
   "execution_count": 410,
   "id": "b6213c5d",
   "metadata": {},
   "outputs": [],
   "source": [
    "# df.head()"
   ]
  },
  {
   "cell_type": "markdown",
   "id": "7a44ef0d",
   "metadata": {},
   "source": [
    "## one hot encoding for Author in train and test data "
   ]
  },
  {
   "cell_type": "code",
   "execution_count": 411,
   "id": "ff434dd2",
   "metadata": {},
   "outputs": [],
   "source": [
    "df = pd.get_dummies(df, columns = ['Author']) "
   ]
  },
  {
   "cell_type": "code",
   "execution_count": 412,
   "id": "eeab1e2b",
   "metadata": {},
   "outputs": [],
   "source": [
    "df_train = df.iloc[:len(df_train)]\n",
    "df_test = df.iloc[len(df_train):]"
   ]
  },
  {
   "cell_type": "code",
   "execution_count": 413,
   "id": "e1e4b8e0",
   "metadata": {},
   "outputs": [
    {
     "data": {
      "text/plain": [
       "(25000, 796)"
      ]
     },
     "execution_count": 413,
     "metadata": {},
     "output_type": "execute_result"
    }
   ],
   "source": [
    "df_train.shape"
   ]
  },
  {
   "cell_type": "code",
   "execution_count": 414,
   "id": "32943cb9",
   "metadata": {},
   "outputs": [
    {
     "data": {
      "text/plain": [
       "(4887, 796)"
      ]
     },
     "execution_count": 414,
     "metadata": {},
     "output_type": "execute_result"
    }
   ],
   "source": [
    "df_test.shape"
   ]
  },
  {
   "cell_type": "markdown",
   "id": "cc71bf68",
   "metadata": {},
   "source": [
    "## TfidfVectorizer"
   ]
  },
  {
   "cell_type": "code",
   "execution_count": 415,
   "id": "876403da",
   "metadata": {},
   "outputs": [],
   "source": [
    "df_train_author_features = df_train.drop([\"Poem\", \"Category_labels\", \"Category\", \"Title\", \"ID\"], axis=1)"
   ]
  },
  {
   "cell_type": "code",
   "execution_count": 416,
   "id": "aa5b9575",
   "metadata": {},
   "outputs": [],
   "source": [
    "df_test_author_features = df_test.drop([\"Poem\", \"Title\", \"Category_labels\", \"Category_labels\", \"ID\", \"Category\"], axis=1)"
   ]
  },
  {
   "cell_type": "code",
   "execution_count": 417,
   "id": "693eed43",
   "metadata": {},
   "outputs": [],
   "source": [
    "y = df_train['Category_labels']"
   ]
  },
  {
   "cell_type": "code",
   "execution_count": 418,
   "id": "64081e97",
   "metadata": {},
   "outputs": [],
   "source": [
    "from sklearn.linear_model import SGDClassifier\n",
    "from sklearn.pipeline import Pipeline\n",
    "from sklearn.feature_extraction.text import TfidfTransformer\n",
    "from sklearn.feature_extraction.text import CountVectorizer, TfidfVectorizer"
   ]
  },
  {
   "cell_type": "code",
   "execution_count": 419,
   "id": "04ddeb1e",
   "metadata": {},
   "outputs": [],
   "source": [
    "vectorizer = TfidfVectorizer(max_features=5000)\n",
    "df = pd.concat([df_train,df_test])\n",
    "vectorizer.fit(df['Poem'])\n",
    "train_vec = vectorizer.fit_transform(df_train['Poem'])\n",
    "test_vec = vectorizer.fit_transform(df_test['Poem'])\n",
    "\n",
    "train_vec = pd.DataFrame.sparse.from_spmatrix(train_vec)\n",
    "test_vec = pd.DataFrame.sparse.from_spmatrix(test_vec)"
   ]
  },
  {
   "cell_type": "markdown",
   "id": "eeca7957",
   "metadata": {},
   "source": [
    "## merge vec data with another features"
   ]
  },
  {
   "cell_type": "code",
   "execution_count": 420,
   "id": "ba589734",
   "metadata": {},
   "outputs": [],
   "source": [
    "X = pd.merge(train_vec, df_train_author_features, left_index=True, right_index=True)"
   ]
  },
  {
   "cell_type": "code",
   "execution_count": 421,
   "id": "e1419131",
   "metadata": {},
   "outputs": [],
   "source": [
    "X_submession = pd.merge(test_vec, df_test_author_features, left_index=True, right_index=True)"
   ]
  },
  {
   "cell_type": "code",
   "execution_count": 422,
   "id": "c8456857",
   "metadata": {},
   "outputs": [],
   "source": [
    "X.columns = X.columns.astype(str)"
   ]
  },
  {
   "cell_type": "code",
   "execution_count": 423,
   "id": "69ca441e",
   "metadata": {},
   "outputs": [],
   "source": [
    "X_submession.columns = X_submession.columns.astype(str)"
   ]
  },
  {
   "cell_type": "code",
   "execution_count": 424,
   "id": "7185421c",
   "metadata": {},
   "outputs": [],
   "source": [
    "columns_with_nan = X.columns[X.isna().any()].tolist()"
   ]
  },
  {
   "cell_type": "code",
   "execution_count": 425,
   "id": "71ac4640",
   "metadata": {},
   "outputs": [
    {
     "data": {
      "text/plain": [
       "[]"
      ]
     },
     "execution_count": 425,
     "metadata": {},
     "output_type": "execute_result"
    }
   ],
   "source": [
    "columns_with_nan"
   ]
  },
  {
   "cell_type": "markdown",
   "id": "49b12556",
   "metadata": {},
   "source": [
    "## split train data to test and train"
   ]
  },
  {
   "cell_type": "code",
   "execution_count": 539,
   "id": "d7243a88",
   "metadata": {},
   "outputs": [],
   "source": [
    "from sklearn.model_selection import train_test_split\n",
    "from sklearn.metrics import accuracy_score \n",
    "from sklearn.metrics import confusion_matrix,classification_report\n",
    "from sklearn import metrics\n",
    "from sklearn.model_selection import cross_validate\n",
    "import xgboost as xgb"
   ]
  },
  {
   "cell_type": "code",
   "execution_count": 540,
   "id": "361cc409",
   "metadata": {},
   "outputs": [],
   "source": [
    "X_train, X_test, y_train, y_test = train_test_split(X, y, test_size=0.15, random_state = 49)"
   ]
  },
  {
   "cell_type": "code",
   "execution_count": 541,
   "id": "195afdd0",
   "metadata": {},
   "outputs": [],
   "source": [
    "model = xgb.XGBClassifier(n_jobs=-1)"
   ]
  },
  {
   "cell_type": "code",
   "execution_count": 542,
   "id": "ffd2f658",
   "metadata": {},
   "outputs": [],
   "source": [
    "# model = SGDClassifier(loss='hinge', penalty='l2',alpha=1e-3, random_state=42, max_iter=5, tol=None)"
   ]
  },
  {
   "cell_type": "code",
   "execution_count": 543,
   "id": "27a44225",
   "metadata": {},
   "outputs": [],
   "source": [
    "# from sklearn.naive_bayes import MultinomialNB\n",
    "# model = MultinomialNB()"
   ]
  },
  {
   "cell_type": "code",
   "execution_count": 544,
   "id": "9dfae35f",
   "metadata": {},
   "outputs": [],
   "source": [
    "# results_train = cross_validate(model, X_train, y_train, cv=5, scoring=[\"accuracy\"])"
   ]
  },
  {
   "cell_type": "code",
   "execution_count": 545,
   "id": "fadc3326",
   "metadata": {},
   "outputs": [],
   "source": [
    "# results_train[\"test_accuracy\"].mean()"
   ]
  },
  {
   "cell_type": "code",
   "execution_count": 546,
   "id": "620cbec1",
   "metadata": {
    "scrolled": false
   },
   "outputs": [
    {
     "data": {
      "text/html": [
       "<style>#sk-container-id-10 {color: black;}#sk-container-id-10 pre{padding: 0;}#sk-container-id-10 div.sk-toggleable {background-color: white;}#sk-container-id-10 label.sk-toggleable__label {cursor: pointer;display: block;width: 100%;margin-bottom: 0;padding: 0.3em;box-sizing: border-box;text-align: center;}#sk-container-id-10 label.sk-toggleable__label-arrow:before {content: \"▸\";float: left;margin-right: 0.25em;color: #696969;}#sk-container-id-10 label.sk-toggleable__label-arrow:hover:before {color: black;}#sk-container-id-10 div.sk-estimator:hover label.sk-toggleable__label-arrow:before {color: black;}#sk-container-id-10 div.sk-toggleable__content {max-height: 0;max-width: 0;overflow: hidden;text-align: left;background-color: #f0f8ff;}#sk-container-id-10 div.sk-toggleable__content pre {margin: 0.2em;color: black;border-radius: 0.25em;background-color: #f0f8ff;}#sk-container-id-10 input.sk-toggleable__control:checked~div.sk-toggleable__content {max-height: 200px;max-width: 100%;overflow: auto;}#sk-container-id-10 input.sk-toggleable__control:checked~label.sk-toggleable__label-arrow:before {content: \"▾\";}#sk-container-id-10 div.sk-estimator input.sk-toggleable__control:checked~label.sk-toggleable__label {background-color: #d4ebff;}#sk-container-id-10 div.sk-label input.sk-toggleable__control:checked~label.sk-toggleable__label {background-color: #d4ebff;}#sk-container-id-10 input.sk-hidden--visually {border: 0;clip: rect(1px 1px 1px 1px);clip: rect(1px, 1px, 1px, 1px);height: 1px;margin: -1px;overflow: hidden;padding: 0;position: absolute;width: 1px;}#sk-container-id-10 div.sk-estimator {font-family: monospace;background-color: #f0f8ff;border: 1px dotted black;border-radius: 0.25em;box-sizing: border-box;margin-bottom: 0.5em;}#sk-container-id-10 div.sk-estimator:hover {background-color: #d4ebff;}#sk-container-id-10 div.sk-parallel-item::after {content: \"\";width: 100%;border-bottom: 1px solid gray;flex-grow: 1;}#sk-container-id-10 div.sk-label:hover label.sk-toggleable__label {background-color: #d4ebff;}#sk-container-id-10 div.sk-serial::before {content: \"\";position: absolute;border-left: 1px solid gray;box-sizing: border-box;top: 0;bottom: 0;left: 50%;z-index: 0;}#sk-container-id-10 div.sk-serial {display: flex;flex-direction: column;align-items: center;background-color: white;padding-right: 0.2em;padding-left: 0.2em;position: relative;}#sk-container-id-10 div.sk-item {position: relative;z-index: 1;}#sk-container-id-10 div.sk-parallel {display: flex;align-items: stretch;justify-content: center;background-color: white;position: relative;}#sk-container-id-10 div.sk-item::before, #sk-container-id-10 div.sk-parallel-item::before {content: \"\";position: absolute;border-left: 1px solid gray;box-sizing: border-box;top: 0;bottom: 0;left: 50%;z-index: -1;}#sk-container-id-10 div.sk-parallel-item {display: flex;flex-direction: column;z-index: 1;position: relative;background-color: white;}#sk-container-id-10 div.sk-parallel-item:first-child::after {align-self: flex-end;width: 50%;}#sk-container-id-10 div.sk-parallel-item:last-child::after {align-self: flex-start;width: 50%;}#sk-container-id-10 div.sk-parallel-item:only-child::after {width: 0;}#sk-container-id-10 div.sk-dashed-wrapped {border: 1px dashed gray;margin: 0 0.4em 0.5em 0.4em;box-sizing: border-box;padding-bottom: 0.4em;background-color: white;}#sk-container-id-10 div.sk-label label {font-family: monospace;font-weight: bold;display: inline-block;line-height: 1.2em;}#sk-container-id-10 div.sk-label-container {text-align: center;}#sk-container-id-10 div.sk-container {/* jupyter's `normalize.less` sets `[hidden] { display: none; }` but bootstrap.min.css set `[hidden] { display: none !important; }` so we also need the `!important` here to be able to override the default hidden behavior on the sphinx rendered scikit-learn.org. See: https://github.com/scikit-learn/scikit-learn/issues/21755 */display: inline-block !important;position: relative;}#sk-container-id-10 div.sk-text-repr-fallback {display: none;}</style><div id=\"sk-container-id-10\" class=\"sk-top-container\"><div class=\"sk-text-repr-fallback\"><pre>XGBClassifier(base_score=None, booster=None, callbacks=None,\n",
       "              colsample_bylevel=None, colsample_bynode=None,\n",
       "              colsample_bytree=None, device=None, early_stopping_rounds=None,\n",
       "              enable_categorical=False, eval_metric=None, feature_types=None,\n",
       "              gamma=None, grow_policy=None, importance_type=None,\n",
       "              interaction_constraints=None, learning_rate=None, max_bin=None,\n",
       "              max_cat_threshold=None, max_cat_to_onehot=None,\n",
       "              max_delta_step=None, max_depth=None, max_leaves=None,\n",
       "              min_child_weight=None, missing=nan, monotone_constraints=None,\n",
       "              multi_strategy=None, n_estimators=None, n_jobs=-1,\n",
       "              num_parallel_tree=None, objective=&#x27;multi:softprob&#x27;, ...)</pre><b>In a Jupyter environment, please rerun this cell to show the HTML representation or trust the notebook. <br />On GitHub, the HTML representation is unable to render, please try loading this page with nbviewer.org.</b></div><div class=\"sk-container\" hidden><div class=\"sk-item\"><div class=\"sk-estimator sk-toggleable\"><input class=\"sk-toggleable__control sk-hidden--visually\" id=\"sk-estimator-id-10\" type=\"checkbox\" checked><label for=\"sk-estimator-id-10\" class=\"sk-toggleable__label sk-toggleable__label-arrow\">XGBClassifier</label><div class=\"sk-toggleable__content\"><pre>XGBClassifier(base_score=None, booster=None, callbacks=None,\n",
       "              colsample_bylevel=None, colsample_bynode=None,\n",
       "              colsample_bytree=None, device=None, early_stopping_rounds=None,\n",
       "              enable_categorical=False, eval_metric=None, feature_types=None,\n",
       "              gamma=None, grow_policy=None, importance_type=None,\n",
       "              interaction_constraints=None, learning_rate=None, max_bin=None,\n",
       "              max_cat_threshold=None, max_cat_to_onehot=None,\n",
       "              max_delta_step=None, max_depth=None, max_leaves=None,\n",
       "              min_child_weight=None, missing=nan, monotone_constraints=None,\n",
       "              multi_strategy=None, n_estimators=None, n_jobs=-1,\n",
       "              num_parallel_tree=None, objective=&#x27;multi:softprob&#x27;, ...)</pre></div></div></div></div></div>"
      ],
      "text/plain": [
       "XGBClassifier(base_score=None, booster=None, callbacks=None,\n",
       "              colsample_bylevel=None, colsample_bynode=None,\n",
       "              colsample_bytree=None, device=None, early_stopping_rounds=None,\n",
       "              enable_categorical=False, eval_metric=None, feature_types=None,\n",
       "              gamma=None, grow_policy=None, importance_type=None,\n",
       "              interaction_constraints=None, learning_rate=None, max_bin=None,\n",
       "              max_cat_threshold=None, max_cat_to_onehot=None,\n",
       "              max_delta_step=None, max_depth=None, max_leaves=None,\n",
       "              min_child_weight=None, missing=nan, monotone_constraints=None,\n",
       "              multi_strategy=None, n_estimators=None, n_jobs=-1,\n",
       "              num_parallel_tree=None, objective='multi:softprob', ...)"
      ]
     },
     "execution_count": 546,
     "metadata": {},
     "output_type": "execute_result"
    }
   ],
   "source": [
    "model.fit(X_train, y_train)"
   ]
  },
  {
   "cell_type": "code",
   "execution_count": 547,
   "id": "7dd3a3a5",
   "metadata": {},
   "outputs": [
    {
     "name": "stdout",
     "output_type": "stream",
     "text": [
      "accuracy 0.9794666666666667\n",
      "              precision    recall  f1-score   support\n",
      "\n",
      "         0.0       0.98      1.00      0.99       721\n",
      "         1.0       0.99      0.98      0.99       778\n",
      "         2.0       0.99      0.93      0.96       747\n",
      "         3.0       0.98      0.99      0.98       758\n",
      "         4.0       0.97      1.00      0.98       746\n",
      "\n",
      "    accuracy                           0.98      3750\n",
      "   macro avg       0.98      0.98      0.98      3750\n",
      "weighted avg       0.98      0.98      0.98      3750\n",
      "\n"
     ]
    }
   ],
   "source": [
    "from sklearn.metrics import classification_report\n",
    "from sklearn.metrics import accuracy_score, confusion_matrix\n",
    "\n",
    "\n",
    "y_pred = model.predict(X_test)\n",
    "\n",
    "print('accuracy %s' % accuracy_score(y_pred, y_test))\n",
    "print(classification_report(y_test, y_pred))"
   ]
  },
  {
   "cell_type": "markdown",
   "id": "ca1e3b74",
   "metadata": {},
   "source": [
    "## Feature importance"
   ]
  },
  {
   "cell_type": "code",
   "execution_count": 548,
   "id": "55679e59",
   "metadata": {},
   "outputs": [
    {
     "data": {
      "image/png": "[encoded data removed]",
      "text/plain": [
       "<Figure size 1000x1000 with 1 Axes>"
      ]
     },
     "metadata": {},
     "output_type": "display_data"
    }
   ],
   "source": [
    "def plot_importance(model, features, num=len(X_train), save=False):\n",
    "    feature_imp = pd.DataFrame({'Value': model.feature_importances_, 'Feature': features.columns})\n",
    "    plt.figure(figsize=(10, 10))\n",
    "    sns.set(font_scale=1)\n",
    "    sns.barplot(x=\"Value\", y=\"Feature\", data=feature_imp.sort_values(by=\"Value\",\n",
    "                                                                     ascending=False)[0:num])\n",
    "    plt.title('Features')\n",
    "    plt.tight_layout()\n",
    "    plt.show()\n",
    "    if save:\n",
    "        plt.savefig('importances.png')\n",
    "\n",
    "\n",
    "plot_importance(model, X_train, num=10)"
   ]
  },
  {
   "cell_type": "markdown",
   "id": "eebc45eb",
   "metadata": {},
   "source": [
    "## submession"
   ]
  },
  {
   "cell_type": "code",
   "execution_count": 549,
   "id": "20fd3b45",
   "metadata": {},
   "outputs": [],
   "source": [
    "# X_submession = X_submession.drop([\"Category\", \"ID\"], axis=1)"
   ]
  },
  {
   "cell_type": "code",
   "execution_count": 550,
   "id": "4423cc57",
   "metadata": {},
   "outputs": [],
   "source": [
    "columns_with_nan = X_submession.columns[X_submession.isna().any()].tolist()"
   ]
  },
  {
   "cell_type": "code",
   "execution_count": 551,
   "id": "110ef810",
   "metadata": {},
   "outputs": [
    {
     "data": {
      "text/plain": [
       "[]"
      ]
     },
     "execution_count": 551,
     "metadata": {},
     "output_type": "execute_result"
    }
   ],
   "source": [
    "columns_with_nan"
   ]
  },
  {
   "cell_type": "code",
   "execution_count": 552,
   "id": "e0a183dd",
   "metadata": {},
   "outputs": [
    {
     "data": {
      "text/plain": [
       "(25000, 5791)"
      ]
     },
     "execution_count": 552,
     "metadata": {},
     "output_type": "execute_result"
    }
   ],
   "source": [
    "X.shape"
   ]
  },
  {
   "cell_type": "code",
   "execution_count": 553,
   "id": "aca57890",
   "metadata": {},
   "outputs": [
    {
     "data": {
      "text/plain": [
       "(4887, 5791)"
      ]
     },
     "execution_count": 553,
     "metadata": {},
     "output_type": "execute_result"
    }
   ],
   "source": [
    "X_submession.shape"
   ]
  },
  {
   "cell_type": "code",
   "execution_count": 554,
   "id": "65deb4f9",
   "metadata": {},
   "outputs": [
    {
     "name": "stdout",
     "output_type": "stream",
     "text": [
      "Additional feature: set()\n"
     ]
    }
   ],
   "source": [
    "# تحديد الأعمدة الفارغة في X_submession مقارنة ب X\n",
    "additional_feature = set(X_submession.columns) - set(X.columns)\n",
    "\n",
    "# عرض اسم الميزة الإضافية\n",
    "print(\"Additional feature:\", additional_feature)"
   ]
  },
  {
   "cell_type": "code",
   "execution_count": 555,
   "id": "b6444870",
   "metadata": {},
   "outputs": [],
   "source": [
    "y_submession = model.predict(X_submession)"
   ]
  },
  {
   "cell_type": "code",
   "execution_count": 556,
   "id": "5bbe850d",
   "metadata": {},
   "outputs": [],
   "source": [
    "submession = pd.DataFrame(y_submession, columns=['labels'])"
   ]
  },
  {
   "cell_type": "code",
   "execution_count": 557,
   "id": "87607aa0",
   "metadata": {},
   "outputs": [],
   "source": [
    "def to_categ(x):\n",
    "    if x==0:\n",
    "        return \"العصر الأندلسي\"\n",
    "    elif x==1:\n",
    "        return \"العصر الايوبي\"\n",
    "    elif x==2:\n",
    "        return \"العصر العباسي\"\n",
    "    elif x==3:\n",
    "        return \"العصر المملوكي\"\n",
    "    elif x==4:\n",
    "        return \"العصر حديث\""
   ]
  },
  {
   "cell_type": "code",
   "execution_count": 558,
   "id": "2b5ba240",
   "metadata": {},
   "outputs": [],
   "source": [
    "submession[\"Category\"] = submession[\"labels\"].apply(to_categ)"
   ]
  },
  {
   "cell_type": "code",
   "execution_count": 559,
   "id": "cc9567bb",
   "metadata": {},
   "outputs": [
    {
     "data": {
      "text/html": [
       "<div>\n",
       "<style scoped>\n",
       "    .dataframe tbody tr th:only-of-type {\n",
       "        vertical-align: middle;\n",
       "    }\n",
       "\n",
       "    .dataframe tbody tr th {\n",
       "        vertical-align: top;\n",
       "    }\n",
       "\n",
       "    .dataframe thead th {\n",
       "        text-align: right;\n",
       "    }\n",
       "</style>\n",
       "<table border=\"1\" class=\"dataframe\">\n",
       "  <thead>\n",
       "    <tr style=\"text-align: right;\">\n",
       "      <th></th>\n",
       "      <th>labels</th>\n",
       "      <th>Category</th>\n",
       "    </tr>\n",
       "  </thead>\n",
       "  <tbody>\n",
       "    <tr>\n",
       "      <th>0</th>\n",
       "      <td>4</td>\n",
       "      <td>العصر حديث</td>\n",
       "    </tr>\n",
       "    <tr>\n",
       "      <th>1</th>\n",
       "      <td>4</td>\n",
       "      <td>العصر حديث</td>\n",
       "    </tr>\n",
       "    <tr>\n",
       "      <th>2</th>\n",
       "      <td>4</td>\n",
       "      <td>العصر حديث</td>\n",
       "    </tr>\n",
       "    <tr>\n",
       "      <th>3</th>\n",
       "      <td>2</td>\n",
       "      <td>العصر العباسي</td>\n",
       "    </tr>\n",
       "    <tr>\n",
       "      <th>4</th>\n",
       "      <td>2</td>\n",
       "      <td>العصر العباسي</td>\n",
       "    </tr>\n",
       "  </tbody>\n",
       "</table>\n",
       "</div>"
      ],
      "text/plain": [
       "   labels       Category\n",
       "0       4     العصر حديث\n",
       "1       4     العصر حديث\n",
       "2       4     العصر حديث\n",
       "3       2  العصر العباسي\n",
       "4       2  العصر العباسي"
      ]
     },
     "execution_count": 559,
     "metadata": {},
     "output_type": "execute_result"
    }
   ],
   "source": [
    "submession.head()"
   ]
  },
  {
   "cell_type": "code",
   "execution_count": 560,
   "id": "4d2a394d",
   "metadata": {},
   "outputs": [],
   "source": [
    "submession[\"ID\"] = submession.index+1"
   ]
  },
  {
   "cell_type": "code",
   "execution_count": 561,
   "id": "b749cbcc",
   "metadata": {},
   "outputs": [
    {
     "data": {
      "text/plain": [
       "(4887, 3)"
      ]
     },
     "execution_count": 561,
     "metadata": {},
     "output_type": "execute_result"
    }
   ],
   "source": [
    "submession.shape"
   ]
  },
  {
   "cell_type": "code",
   "execution_count": 562,
   "id": "99a7f307",
   "metadata": {},
   "outputs": [
    {
     "data": {
      "text/html": [
       "<div>\n",
       "<style scoped>\n",
       "    .dataframe tbody tr th:only-of-type {\n",
       "        vertical-align: middle;\n",
       "    }\n",
       "\n",
       "    .dataframe tbody tr th {\n",
       "        vertical-align: top;\n",
       "    }\n",
       "\n",
       "    .dataframe thead th {\n",
       "        text-align: right;\n",
       "    }\n",
       "</style>\n",
       "<table border=\"1\" class=\"dataframe\">\n",
       "  <thead>\n",
       "    <tr style=\"text-align: right;\">\n",
       "      <th></th>\n",
       "      <th>labels</th>\n",
       "      <th>Category</th>\n",
       "      <th>ID</th>\n",
       "    </tr>\n",
       "  </thead>\n",
       "  <tbody>\n",
       "    <tr>\n",
       "      <th>0</th>\n",
       "      <td>4</td>\n",
       "      <td>العصر حديث</td>\n",
       "      <td>1</td>\n",
       "    </tr>\n",
       "    <tr>\n",
       "      <th>1</th>\n",
       "      <td>4</td>\n",
       "      <td>العصر حديث</td>\n",
       "      <td>2</td>\n",
       "    </tr>\n",
       "    <tr>\n",
       "      <th>2</th>\n",
       "      <td>4</td>\n",
       "      <td>العصر حديث</td>\n",
       "      <td>3</td>\n",
       "    </tr>\n",
       "    <tr>\n",
       "      <th>3</th>\n",
       "      <td>2</td>\n",
       "      <td>العصر العباسي</td>\n",
       "      <td>4</td>\n",
       "    </tr>\n",
       "    <tr>\n",
       "      <th>4</th>\n",
       "      <td>2</td>\n",
       "      <td>العصر العباسي</td>\n",
       "      <td>5</td>\n",
       "    </tr>\n",
       "  </tbody>\n",
       "</table>\n",
       "</div>"
      ],
      "text/plain": [
       "   labels       Category  ID\n",
       "0       4     العصر حديث   1\n",
       "1       4     العصر حديث   2\n",
       "2       4     العصر حديث   3\n",
       "3       2  العصر العباسي   4\n",
       "4       2  العصر العباسي   5"
      ]
     },
     "execution_count": 562,
     "metadata": {},
     "output_type": "execute_result"
    }
   ],
   "source": [
    "submession.head()"
   ]
  },
  {
   "cell_type": "code",
   "execution_count": 563,
   "id": "e23781d9",
   "metadata": {},
   "outputs": [],
   "source": [
    "submession = submession.drop(\"labels\", axis=1)"
   ]
  },
  {
   "cell_type": "code",
   "execution_count": 564,
   "id": "41cdd77e",
   "metadata": {},
   "outputs": [],
   "source": [
    "submession.to_csv(\"Peom_arabic_submession.csv\", index=False)"
   ]
  },
  {
   "cell_type": "code",
   "execution_count": 565,
   "id": "fd4b27da",
   "metadata": {},
   "outputs": [],
   "source": [
    "submession_file = pd.read_csv(\"Peom_arabic_submession.csv\")"
   ]
  },
  {
   "cell_type": "code",
   "execution_count": 566,
   "id": "9c5caa64",
   "metadata": {},
   "outputs": [
    {
     "data": {
      "text/html": [
       "<div>\n",
       "<style scoped>\n",
       "    .dataframe tbody tr th:only-of-type {\n",
       "        vertical-align: middle;\n",
       "    }\n",
       "\n",
       "    .dataframe tbody tr th {\n",
       "        vertical-align: top;\n",
       "    }\n",
       "\n",
       "    .dataframe thead th {\n",
       "        text-align: right;\n",
       "    }\n",
       "</style>\n",
       "<table border=\"1\" class=\"dataframe\">\n",
       "  <thead>\n",
       "    <tr style=\"text-align: right;\">\n",
       "      <th></th>\n",
       "      <th>Category</th>\n",
       "      <th>ID</th>\n",
       "    </tr>\n",
       "  </thead>\n",
       "  <tbody>\n",
       "    <tr>\n",
       "      <th>0</th>\n",
       "      <td>العصر حديث</td>\n",
       "      <td>1</td>\n",
       "    </tr>\n",
       "    <tr>\n",
       "      <th>1</th>\n",
       "      <td>العصر حديث</td>\n",
       "      <td>2</td>\n",
       "    </tr>\n",
       "    <tr>\n",
       "      <th>2</th>\n",
       "      <td>العصر حديث</td>\n",
       "      <td>3</td>\n",
       "    </tr>\n",
       "    <tr>\n",
       "      <th>3</th>\n",
       "      <td>العصر العباسي</td>\n",
       "      <td>4</td>\n",
       "    </tr>\n",
       "    <tr>\n",
       "      <th>4</th>\n",
       "      <td>العصر العباسي</td>\n",
       "      <td>5</td>\n",
       "    </tr>\n",
       "  </tbody>\n",
       "</table>\n",
       "</div>"
      ],
      "text/plain": [
       "        Category  ID\n",
       "0     العصر حديث   1\n",
       "1     العصر حديث   2\n",
       "2     العصر حديث   3\n",
       "3  العصر العباسي   4\n",
       "4  العصر العباسي   5"
      ]
     },
     "execution_count": 566,
     "metadata": {},
     "output_type": "execute_result"
    }
   ],
   "source": [
    "submession_file.head()"
   ]
  },
  {
   "cell_type": "code",
   "execution_count": null,
   "id": "142f2272",
   "metadata": {},
   "outputs": [],
   "source": []
  },
  {
   "cell_type": "code",
   "execution_count": null,
   "id": "57693790",
   "metadata": {},
   "outputs": [],
   "source": []
  },
  {
   "cell_type": "code",
   "execution_count": null,
   "id": "397ae2f8",
   "metadata": {},
   "outputs": [],
   "source": []
  },
  {
   "cell_type": "code",
   "execution_count": null,
   "id": "b3e812f9",
   "metadata": {},
   "outputs": [],
   "source": []
  }
 ],
 "metadata": {
  "kernelspec": {
   "display_name": "Python 3 (ipykernel)",
   "language": "python",
   "name": "python3"
  },
  "language_info": {
   "codemirror_mode": {
    "name": "ipython",
    "version": 3
   },
   "file_extension": ".py",
   "mimetype": "text/x-python",
   "name": "python",
   "nbconvert_exporter": "python",
   "pygments_lexer": "ipython3",
   "version": "3.11.5"
  }
 },
 "nbformat": 4,
 "nbformat_minor": 5
}
